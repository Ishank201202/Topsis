{
 "cells": [
  {
   "cell_type": "code",
   "execution_count": 1,
   "id": "4082c06b",
   "metadata": {},
   "outputs": [],
   "source": [
    "def Topsis(inp, w, s, opt):\n",
    "    import pandas as pd\n",
    "    import numpy as np\n",
    "    import math as mt\n",
    "    try:\n",
    "        df = pd.read_csv(inp)\n",
    "    except FileNotFoundError:\n",
    "        return f\"Error: Input file '{inp}' not found.\"\n",
    "    elements = w.split(',')\n",
    "    wt =[element.strip() for element in elements]\n",
    "    for i in range(len(wt)):\n",
    "        wt[i]=float(wt[i])\n",
    "    elements = s.split(',')\n",
    "    sg =[element.strip() for element in elements]\n",
    "    cols = df.values.T\n",
    "    val1=cols[1:]\n",
    "    val2=np.zeros_like(val1)\n",
    "    for i in range(len(val1)):\n",
    "        for j in range(len(val1[i])):\n",
    "            x=val1[i][j]\n",
    "            val2[i][j]=x**2\n",
    "    sumsq=[]\n",
    "    for i in range (len(val2)):\n",
    "        x=sum(val2[i])\n",
    "        sumsq.append(x)\n",
    "    for i in range (len(sumsq)):\n",
    "        sumsq[i]=mt.sqrt(sumsq[i])\n",
    "    for i in range(len(val1)):\n",
    "        val1[i]=(val1[i]/sumsq[i])*wt[i]\n",
    "    vjp=[]\n",
    "    for i in range(len(val1)):\n",
    "        if sg[i]==\"+\":\n",
    "            m=max(val1[i])\n",
    "            vjp.append(m)\n",
    "        else:\n",
    "            m=min(val1[i])\n",
    "            vjp.append(m)\n",
    "    vjn=[]\n",
    "    for i in range(len(val1)):\n",
    "        if sg[i]==\"+\":\n",
    "            m=min(val1[i])\n",
    "            vjn.append(m)\n",
    "        else:\n",
    "            m=max(val1[i])\n",
    "            vjn.append(m)\n",
    "    val3=val1.T\n",
    "    stp=[]\n",
    "    stn=[]\n",
    "    for i in range (len(val3)):\n",
    "        x = sum((a - b) ** 2 for a, b in zip(val3[i], vjp))\n",
    "        stp.append(mt.sqrt(x))\n",
    "        y = sum((a - b) ** 2 for a, b in zip(val3[i], vjn))\n",
    "        stn.append(mt.sqrt(y))\n",
    "    stsum=np.add(stp, stn)\n",
    "    per=np.divide(stn,stsum)\n",
    "    erank = {e: rank for rank, e in enumerate(sorted(per, reverse=True), start=1)}\n",
    "    rank = [erank[e] for e in per]\n",
    "    df['TOPSIS Score']=per\n",
    "    df['TOPSIS Rank']=rank\n",
    "    df.to_csv(opt, index=False)\n",
    "    return \"File saved at output location\"\n",
    "                 "
   ]
  },
  {
   "cell_type": "code",
   "execution_count": 2,
   "id": "7ca7f955",
   "metadata": {},
   "outputs": [
    {
     "data": {
      "text/plain": [
       "'File saved at output location'"
      ]
     },
     "execution_count": 2,
     "metadata": {},
     "output_type": "execute_result"
    }
   ],
   "source": [
    "Topsis(\"Dataset_102103035.csv\", \"0.75,1,0.5\", \"+,+,-\", \"Result_102103035.csv\")"
   ]
  },
  {
   "cell_type": "code",
   "execution_count": null,
   "id": "6a38e465",
   "metadata": {},
   "outputs": [],
   "source": []
  }
 ],
 "metadata": {
  "kernelspec": {
   "display_name": "Python 3 (ipykernel)",
   "language": "python",
   "name": "python3"
  },
  "language_info": {
   "codemirror_mode": {
    "name": "ipython",
    "version": 3
   },
   "file_extension": ".py",
   "mimetype": "text/x-python",
   "name": "python",
   "nbconvert_exporter": "python",
   "pygments_lexer": "ipython3",
   "version": "3.9.12"
  }
 },
 "nbformat": 4,
 "nbformat_minor": 5
}
